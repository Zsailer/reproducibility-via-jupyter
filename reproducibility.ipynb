{
 "cells": [
  {
   "cell_type": "markdown",
   "metadata": {
    "slideshow": {
     "slide_type": "slide"
    }
   },
   "source": [
    "# Reproducibility and open science\n",
    "### powered by the Jupyter Notebook\n",
    "\n",
    "<br>\n",
    "Zach Sailer"
   ]
  },
  {
   "cell_type": "markdown",
   "metadata": {
    "slideshow": {
     "slide_type": "slide"
    }
   },
   "source": [
    "## Zach Sailer\n",
    "\n",
    "4th-year PhD student, Harms Lab\n",
    "\n",
    "Previously core developer for the IPython/Jupyter project\n",
    "\n",
    "<img src=\"img/twitter-logo.png\" width=100 style=\"float:left; padding-right:5px;\">\n",
    "<div height=100 width=0 style=\"float:left; padding-right:50px;\"> <h4>zrsailer</h4> </div>\n",
    "\n",
    "<img src=\"img/github-logo.png\" width=80 style=\"float:left; padding-left:10px; padding-right:10px; padding-top:10px;\">\n",
    "<div height=100 width=0 style=\"float:left; padding-right:50px;\"> <h4>zsailer</h4> </div>\n",
    "\n",
    "\n",
    "<img src=\"img/gmail-logo.png\" width=100 style=\"float:left; padding-left:10px; padding-right:10px; padding-top:10px;\">\n",
    "<div height=100 width=0 style=\"float:left; padding-right:50px;\"> <h4>zsailer@uoregon.edu</h4> </div>"
   ]
  },
  {
   "cell_type": "markdown",
   "metadata": {
    "slideshow": {
     "slide_type": "slide"
    }
   },
   "source": [
    "# Let's define the problem: \n",
    "\n",
    "## the reproducibility crisis\n"
   ]
  },
  {
   "cell_type": "markdown",
   "metadata": {
    "slideshow": {
     "slide_type": "slide"
    }
   },
   "source": [
    "<i style=\"font-size:50px\">Estimating the reproducibility of psychological science</i>(Science)\n",
    "<br>\n",
    "**Open Science Collaboration**\n",
    "(<a http://science.sciencemag.org/content/349/6251/aac4716>see paper</a>)\n",
    "\n",
    "<img src=\"img/replication-bias.jpg\" width=700 style=\"float:center; padding-right:20px;\">"
   ]
  },
  {
   "cell_type": "markdown",
   "metadata": {
    "slideshow": {
     "slide_type": "slide"
    }
   },
   "source": [
    "## *If it isn't reproducible, it ain't science.*\n",
    "\n",
    "~ Fernando Perez (IPython/Jupyter founder)\n",
    "\n",
    "\n",
    "For computational scientists, there is no excuse. "
   ]
  },
  {
   "cell_type": "markdown",
   "metadata": {
    "collapsed": true,
    "slideshow": {
     "slide_type": "slide"
    }
   },
   "source": [
    "# How to practice open and reproducible science:\n",
    "\n",
    "0. Data exploration is cool.\n",
    "1. Comment like crazy.\n",
    "3. Compile raw data, code, documentation, and figures in a public repository.\n",
    "4. Publish the repository in an open, sustainable archive.\n",
    "2. Track changes over time.\n",
    "5. Engage the community. Challenge others to find the flaw in your work. \n",
    "6. Admit mistakes and track fixes."
   ]
  },
  {
   "cell_type": "markdown",
   "metadata": {
    "slideshow": {
     "slide_type": "slide"
    }
   },
   "source": [
    "# Meet the Jupyter Notebook\n",
    "<img src=\"img/jupyter-logo.png\" height=200 width=200>"
   ]
  },
  {
   "cell_type": "markdown",
   "metadata": {
    "slideshow": {
     "slide_type": "slide"
    }
   },
   "source": [
    "# What is the Jupyter Notebook?\n",
    "<img src=\"img/notebook.png\" width=600 style=\"float:left; padding-right:20px;\">\n",
    "\n",
    "open-source web application that allows you to create and share documents that contain live code, equations, visualizations and explanatory text\n",
    "\n"
   ]
  },
  {
   "cell_type": "markdown",
   "metadata": {
    "slideshow": {
     "slide_type": "slide"
    }
   },
   "source": [
    "# How to practice open and reproducible science:\n",
    "\n",
    "0. Data exploration is cool.\n",
    "1. Comment like crazy.\n",
    "3. Compile raw data, code, documentation, and figures in a public repository.\n",
    "4. Publish the repository in an open, sustainable archive.\n",
    "2. Track changes over time.\n",
    "5. Engage the community. Challenge others to find the flaw in your work. \n",
    "6. Admit mistakes and track fixes.\n",
    "\n",
    "<a href=\"https://beta.mybinder.org/v2/gh/zsailer/bioinformatics-demo/master\">https://beta.mybinder.org/v2/gh/zsailer/bioinformatics-demo/master</a>"
   ]
  },
  {
   "cell_type": "markdown",
   "metadata": {
    "slideshow": {
     "slide_type": "slide"
    }
   },
   "source": [
    "# Jupyter in the wild!"
   ]
  },
  {
   "cell_type": "markdown",
   "metadata": {
    "slideshow": {
     "slide_type": "fragment"
    }
   },
   "source": [
    "##### <a href=\"https://github.com/jupyter/jupyter/wiki/A-gallery-of-interesting-Jupyter-Notebooks#reproducible-academic-publications\">List</a> of publications that use Jupyter Notebooks as supplements."
   ]
  },
  {
   "cell_type": "markdown",
   "metadata": {
    "slideshow": {
     "slide_type": "fragment"
    }
   },
   "source": [
    "##### <a href=\"https://beta.mybinder.org/v2/gh/minrk/ligo-binder/master?filepath=index.ipynb\">LIGO collaboration</a>"
   ]
  },
  {
   "cell_type": "markdown",
   "metadata": {
    "slideshow": {
     "slide_type": "fragment"
    }
   },
   "source": [
    "##### <a href=\"http://nbviewer.jupyter.org/\">NBViewer</a> hosts static notebooks"
   ]
  },
  {
   "cell_type": "markdown",
   "metadata": {
    "slideshow": {
     "slide_type": "fragment"
    }
   },
   "source": [
    "##### Even the Dallas Mavericks\n",
    "<a href=\"https://twitter.com/mcuban/status/846781342083923969\">See this tweet</a>"
   ]
  },
  {
   "cell_type": "markdown",
   "metadata": {
    "slideshow": {
     "slide_type": "slide"
    }
   },
   "source": [
    "# Extra advantages of the Jupyter notebook"
   ]
  },
  {
   "cell_type": "markdown",
   "metadata": {
    "slideshow": {
     "slide_type": "fragment"
    }
   },
   "source": [
    "##### The Jupyter NB is completely free and **always** will be free.\n",
    "<a href=\"http://jupyter.org/about.html\">See statement here</a>"
   ]
  },
  {
   "cell_type": "markdown",
   "metadata": {
    "slideshow": {
     "slide_type": "fragment"
    }
   },
   "source": [
    "##### Great community!\n",
    "<a href=\"https://blog.jupyter.org/2017/01/31/openness-diversity-and-dignity\">Statement of inclusion</a>"
   ]
  },
  {
   "cell_type": "markdown",
   "metadata": {
    "slideshow": {
     "slide_type": "fragment"
    }
   },
   "source": [
    "##### Easy to engage in the conversation\n",
    "<a href=\"https://github.com/jupyter/notebook\">Github repo</a>"
   ]
  },
  {
   "cell_type": "markdown",
   "metadata": {
    "slideshow": {
     "slide_type": "fragment"
    }
   },
   "source": [
    "##### Academically driven\n",
    "<a href=\"http://jupyter.org/about.html\">Steering committee</a>"
   ]
  },
  {
   "cell_type": "markdown",
   "metadata": {
    "slideshow": {
     "slide_type": "slide"
    }
   },
   "source": [
    "# Many \"kernels\""
   ]
  },
  {
   "cell_type": "markdown",
   "metadata": {
    "slideshow": {
     "slide_type": "fragment"
    }
   },
   "source": [
    "##### Jupyter is a single interface for many languages.\n",
    "<a href=\"https://github.com/jupyter/jupyter/wiki/Jupyter-kernels\">see the list here</a>"
   ]
  },
  {
   "cell_type": "markdown",
   "metadata": {
    "slideshow": {
     "slide_type": "slide"
    }
   },
   "source": [
    "# Browser based, javascript frontend"
   ]
  },
  {
   "cell_type": "markdown",
   "metadata": {
    "slideshow": {
     "slide_type": "fragment"
    }
   },
   "source": [
    "##### Interactive JS visualization \n",
    "<a href=\"https://plot.ly/python/ipython-notebook-tutorial/\">Plotly</a>"
   ]
  },
  {
   "cell_type": "markdown",
   "metadata": {
    "slideshow": {
     "slide_type": "fragment"
    }
   },
   "source": [
    "##### Embed notebooks in blogs/websites\n",
    "\n",
    "<a href=\"https://jakevdp.github.io/blog/2013/12/01/kernel-density-estimation/\">See this example</a>"
   ]
  },
  {
   "cell_type": "markdown",
   "metadata": {
    "collapsed": true,
    "slideshow": {
     "slide_type": "fragment"
    }
   },
   "source": [
    "##### Cloud hosted notebooks\n",
    "<a href=\"https://notebooks.azure.com/\">Microsoft Azure</a>"
   ]
  },
  {
   "cell_type": "markdown",
   "metadata": {
    "slideshow": {
     "slide_type": "fragment"
    }
   },
   "source": [
    "##### Google Drive compatibility\n",
    "\n",
    "<a href=\"https://github.com/jupyter/jupyter-drive\">Github project here</a>"
   ]
  },
  {
   "cell_type": "markdown",
   "metadata": {
    "slideshow": {
     "slide_type": "slide"
    }
   },
   "source": [
    "# Supported by powerhouses\n",
    "<a href=\"http://jupyter.org/\">List of Users and Sponsors</a>"
   ]
  },
  {
   "cell_type": "markdown",
   "metadata": {
    "slideshow": {
     "slide_type": "slide"
    }
   },
   "source": [
    "# Future of Jupyter"
   ]
  },
  {
   "cell_type": "markdown",
   "metadata": {
    "slideshow": {
     "slide_type": "fragment"
    }
   },
   "source": [
    "##### Real time collaboration"
   ]
  },
  {
   "cell_type": "markdown",
   "metadata": {
    "slideshow": {
     "slide_type": "fragment"
    }
   },
   "source": [
    "##### JupyterLab"
   ]
  },
  {
   "cell_type": "markdown",
   "metadata": {
    "slideshow": {
     "slide_type": "slide"
    }
   },
   "source": [
    "# Thanks!\n",
    "\n",
    "## Zach Sailer\n",
    "\n",
    "4th-year PhD student, Harms Lab\n",
    "\n",
    "Previously core developer for the IPython/Jupyter project\n",
    "\n",
    "<img src=\"img/twitter-logo.png\" width=100 style=\"float:left; padding-right:5px;\">\n",
    "<div height=100 width=0 style=\"float:left; padding-right:50px;\"> <h4>zrsailer</h4> </div>\n",
    "\n",
    "<img src=\"img/github-logo.png\" width=80 style=\"float:left; padding-left:10px; padding-right:10px; padding-top:10px;\">\n",
    "<div height=100 width=0 style=\"float:left; padding-right:50px;\"> <h4>zsailer</h4> </div>\n",
    "\n",
    "\n",
    "<img src=\"img/gmail-logo.png\" width=100 style=\"float:left; padding-left:10px; padding-right:10px; padding-top:10px;\">\n",
    "<div height=100 width=0 style=\"float:left; padding-right:50px;\"> <h4>zsailer@uoregon.edu</h4> </div>"
   ]
  }
 ],
 "metadata": {
  "celltoolbar": "Slideshow",
  "kernelspec": {
   "display_name": "py3",
   "language": "python",
   "name": "py3"
  },
  "language_info": {
   "codemirror_mode": {
    "name": "ipython",
    "version": 3
   },
   "file_extension": ".py",
   "mimetype": "text/x-python",
   "name": "python",
   "nbconvert_exporter": "python",
   "pygments_lexer": "ipython3",
   "version": "3.5.2"
  }
 },
 "nbformat": 4,
 "nbformat_minor": 2
}
