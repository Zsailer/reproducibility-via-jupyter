{
 "cells": [
  {
   "cell_type": "code",
   "execution_count": 2,
   "metadata": {},
   "outputs": [],
   "source": [
    "# START ON THE NEXT SLIDE!!!\n",
    "\n",
    "from IPython.display import IFrame\n",
    "\n",
    "def show(url=None):\n",
    "    return IFrame(url, width=1200, height=600)"
   ]
  },
  {
   "cell_type": "markdown",
   "metadata": {
    "slideshow": {
     "slide_type": "slide"
    }
   },
   "source": [
    "# Reproducibility and open science\n",
    "### powered by the Jupyter Notebook\n",
    "\n",
    "Join the chat!\n",
    "\n",
    "https://gitter.im/reproducibility-via-jupyter/Lobby\n",
    "\n",
    "<br>\n",
    "Zach Sailer"
   ]
  },
  {
   "cell_type": "markdown",
   "metadata": {
    "slideshow": {
     "slide_type": "slide"
    }
   },
   "source": [
    "## Zach Sailer\n",
    "\n",
    "Harms Lab\n",
    "\n",
    "Core developer at IPython/Jupyter.\n",
    "\n",
    "<img src=\"img/twitter-logo.png\" width=100 style=\"float:left; padding-right:5px;\">\n",
    "<div height=100 width=0 style=\"float:left; padding-right:50px;\"> <h4>zrsailer</h4> </div>\n",
    "\n",
    "<img src=\"img/github-logo.png\" width=80 style=\"float:left; padding-left:10px; padding-right:10px; padding-top:10px;\">\n",
    "<div height=100 width=0 style=\"float:left; padding-right:50px;\"> <h4>zsailer</h4> </div>\n",
    "\n",
    "\n",
    "<img src=\"img/gmail-logo.png\" width=100 style=\"float:left; padding-left:10px; padding-right:10px; padding-top:10px;\">\n",
    "<div height=100 width=0 style=\"float:left; padding-right:50px;\"> <h4>zachsailer@gmail.com</h4> </div>"
   ]
  },
  {
   "cell_type": "markdown",
   "metadata": {
    "slideshow": {
     "slide_type": "slide"
    }
   },
   "source": [
    "# Let's define the problem: \n",
    "\n",
    "## the reproducibility crisis\n"
   ]
  },
  {
   "cell_type": "markdown",
   "metadata": {
    "slideshow": {
     "slide_type": "slide"
    }
   },
   "source": [
    "<i style=\"font-size:50px\">Estimating the reproducibility of psychological science</i>(Science)\n",
    "\n",
    "<br>\n",
    "\n",
    "\n",
    "**Open Science Collaboration** (<a src=\"http://science.sciencemag.org/content/349/6251/aac4716\">see paper</a>)\n",
    "\n",
    "<img src=\"img/replication-bias.jpg\" width=700 style=\"float:center; padding-right:20px;\">"
   ]
  },
  {
   "cell_type": "markdown",
   "metadata": {
    "slideshow": {
     "slide_type": "slide"
    }
   },
   "source": [
    "# This is a hot topic right now\n",
    "\n",
    "<img src=\"img/citations-osc.png\" width=700 style=\"float:center; padding-right:20px;\">"
   ]
  },
  {
   "cell_type": "markdown",
   "metadata": {
    "slideshow": {
     "slide_type": "slide"
    }
   },
   "source": [
    "## Reproducible Research\n",
    "\n",
    "\"An article about computational science in a scientific publication is not the scholarship itself, it is merely advertising of the scholarship. The actual scholarship is the complete software development environment and the complete set of instructions which generated the figures.\" \n",
    "\n",
    "~ *Buckheit and Donoho, WaveLab and Reproducible Research, 1995.*"
   ]
  },
  {
   "cell_type": "markdown",
   "metadata": {
    "slideshow": {
     "slide_type": "fragment"
    }
   },
   "source": [
    "\"If it isn't reproducible, it ain't science.\"  \n",
    "\n",
    "~ *Fernando Perez (IPython/Jupyter founder)*"
   ]
  },
  {
   "cell_type": "markdown",
   "metadata": {
    "slideshow": {
     "slide_type": "fragment"
    }
   },
   "source": [
    "**Bioinformatics should be open by default. There is no excuse.**"
   ]
  },
  {
   "cell_type": "markdown",
   "metadata": {
    "slideshow": {
     "slide_type": "slide"
    }
   },
   "source": [
    "# Open science is on the rise\n",
    "\n",
    "Right now, reproducible research is rare. In the future, it will likely be the expectation.\n",
    "\n"
   ]
  },
  {
   "cell_type": "markdown",
   "metadata": {
    "collapsed": true,
    "slideshow": {
     "slide_type": "slide"
    }
   },
   "source": [
    "# How to practice open and reproducible science:\n",
    "\n",
    "1. Data exploration is cool. Do it. \n",
    "1. Commit/version control any steps *forward*.\n",
    "1. Compile raw data, code, documentation, and figures in a public repository.\n",
    "1. Comment and document like crazy.\n",
    "1. Publish the repository in an open, sustainable archive.\n",
    "1. Track changes over time.\n",
    "1. Engage the community. Challenge others to find the flaw in your work. \n",
    "1. Admit mistakes and track fixes."
   ]
  },
  {
   "cell_type": "markdown",
   "metadata": {
    "slideshow": {
     "slide_type": "slide"
    }
   },
   "source": [
    "# Meet the Jupyter Notebook\n",
    "<img src=\"img/jupyter-logo.png\" height=200 width=200>"
   ]
  },
  {
   "cell_type": "markdown",
   "metadata": {
    "slideshow": {
     "slide_type": "slide"
    }
   },
   "source": [
    "# What is the Jupyter Notebook?\n",
    "<img src=\"img/notebook.png\" width=600 style=\"float:left; padding-right:20px;\">\n",
    "\n",
    "open-source web application that allows you to create and share documents that contain live code, equations, visualizations and explanatory text\n",
    "\n"
   ]
  },
  {
   "cell_type": "markdown",
   "metadata": {
    "slideshow": {
     "slide_type": "slide"
    }
   },
   "source": [
    "# How to practice open and reproducible science:\n",
    "\n",
    "1. Data exploration is cool. Do it. \n",
    "1. Commit/version control any steps *forward*.\n",
    "1. Compile raw data, code, documentation, and figures in a public repository.\n",
    "1. Comment and document like crazy.\n",
    "1. Publish the repository in an open, sustainable archive.\n",
    "1. Track changes over time.\n",
    "1. Engage the community. Challenge others to find the flaw in your work. \n",
    "1. Admit mistakes and track fixes.\n",
    "\n",
    "<a href=\"https://mybinder.org/v2/gh/Zsailer/bioinformatics-demo-2/master?urlpath=lab/tree/index.ipynb\">Let's see what this looks like.</a>"
   ]
  },
  {
   "cell_type": "markdown",
   "metadata": {
    "slideshow": {
     "slide_type": "slide"
    }
   },
   "source": [
    "# Jupyter in the wild!"
   ]
  },
  {
   "cell_type": "markdown",
   "metadata": {
    "slideshow": {
     "slide_type": "fragment"
    }
   },
   "source": [
    "##### <a href=\"https://github.com/jupyter/jupyter/wiki/A-gallery-of-interesting-Jupyter-Notebooks#reproducible-academic-publications\">List</a> of publications that use Jupyter Notebooks as supplements."
   ]
  },
  {
   "cell_type": "code",
   "execution_count": 3,
   "metadata": {
    "scrolled": false,
    "slideshow": {
     "slide_type": "slide"
    }
   },
   "outputs": [
    {
     "data": {
      "text/html": [
       "\n",
       "        <iframe\n",
       "            width=\"1200\"\n",
       "            height=\"600\"\n",
       "            src=\"https://www.nobelprize.org/nobel_prizes/physics/laureates/2017/press.html\"\n",
       "            frameborder=\"0\"\n",
       "            allowfullscreen\n",
       "        ></iframe>\n",
       "        "
      ],
      "text/plain": [
       "<IPython.lib.display.IFrame at 0x104abba58>"
      ]
     },
     "execution_count": 3,
     "metadata": {},
     "output_type": "execute_result"
    }
   ],
   "source": [
    "show(url=\"https://www.nobelprize.org/nobel_prizes/physics/laureates/2017/press.html\")"
   ]
  },
  {
   "cell_type": "markdown",
   "metadata": {
    "slideshow": {
     "slide_type": "fragment"
    }
   },
   "source": [
    "##### <a href=\"https://beta.mybinder.org/v2/gh/minrk/ligo-binder/master?filepath=index.ipynb\">LIGO collaboration</a>"
   ]
  },
  {
   "cell_type": "code",
   "execution_count": 25,
   "metadata": {
    "slideshow": {
     "slide_type": "slide"
    }
   },
   "outputs": [
    {
     "data": {
      "text/html": [
       "\n",
       "        <iframe\n",
       "            width=\"900\"\n",
       "            height=\"600\"\n",
       "            src=\"https://kyso.io/\"\n",
       "            frameborder=\"0\"\n",
       "            allowfullscreen\n",
       "        ></iframe>\n",
       "        "
      ],
      "text/plain": [
       "<IPython.lib.display.IFrame at 0x105dbe198>"
      ]
     },
     "execution_count": 25,
     "metadata": {},
     "output_type": "execute_result"
    }
   ],
   "source": [
    "show(url=\"https://kyso.io/\")"
   ]
  },
  {
   "cell_type": "code",
   "execution_count": 18,
   "metadata": {
    "slideshow": {
     "slide_type": "slide"
    }
   },
   "outputs": [
    {
     "data": {
      "text/html": [
       "\n",
       "        <iframe\n",
       "            width=\"900\"\n",
       "            height=\"600\"\n",
       "            src=\"http://nbviewer.jupyter.org/\"\n",
       "            frameborder=\"0\"\n",
       "            allowfullscreen\n",
       "        ></iframe>\n",
       "        "
      ],
      "text/plain": [
       "<IPython.lib.display.IFrame at 0x105dbe3c8>"
      ]
     },
     "execution_count": 18,
     "metadata": {},
     "output_type": "execute_result"
    }
   ],
   "source": [
    "show(url=\"http://nbviewer.jupyter.org/\")"
   ]
  },
  {
   "cell_type": "markdown",
   "metadata": {
    "slideshow": {
     "slide_type": "slide"
    }
   },
   "source": [
    "##### Even the Dallas Mavericks\n",
    "<a href=\"https://twitter.com/mcuban/status/846781342083923969\">See this tweet</a>\n",
    "\n",
    "<img src=\"img/cuban-twitter.jpg\"></img>"
   ]
  },
  {
   "cell_type": "code",
   "execution_count": 10,
   "metadata": {
    "scrolled": false,
    "slideshow": {
     "slide_type": "slide"
    }
   },
   "outputs": [
    {
     "data": {
      "text/html": [
       "\n",
       "        <iframe\n",
       "            width=\"900\"\n",
       "            height=\"600\"\n",
       "            src=\"https://juno.sh/\"\n",
       "            frameborder=\"0\"\n",
       "            allowfullscreen\n",
       "        ></iframe>\n",
       "        "
      ],
      "text/plain": [
       "<IPython.lib.display.IFrame at 0x105da0588>"
      ]
     },
     "execution_count": 10,
     "metadata": {},
     "output_type": "execute_result"
    }
   ],
   "source": [
    "show(url='https://juno.sh/')"
   ]
  },
  {
   "cell_type": "markdown",
   "metadata": {
    "slideshow": {
     "slide_type": "slide"
    }
   },
   "source": [
    "# Extra advantages of the Jupyter notebook"
   ]
  },
  {
   "cell_type": "markdown",
   "metadata": {
    "slideshow": {
     "slide_type": "fragment"
    }
   },
   "source": [
    "##### The Jupyter NB is completely free and **always** will be free.\n",
    "<a href=\"http://jupyter.org/about.html\">See statement here</a>"
   ]
  },
  {
   "cell_type": "code",
   "execution_count": 20,
   "metadata": {
    "slideshow": {
     "slide_type": "fragment"
    }
   },
   "outputs": [
    {
     "data": {
      "text/html": [
       "\n",
       "        <iframe\n",
       "            width=\"900\"\n",
       "            height=\"600\"\n",
       "            src=\"http://jupyter.org/about.html\"\n",
       "            frameborder=\"0\"\n",
       "            allowfullscreen\n",
       "        ></iframe>\n",
       "        "
      ],
      "text/plain": [
       "<IPython.lib.display.IFrame at 0x105dbe240>"
      ]
     },
     "execution_count": 20,
     "metadata": {},
     "output_type": "execute_result"
    }
   ],
   "source": [
    "show(url=\"http://jupyter.org/about.html\")"
   ]
  },
  {
   "cell_type": "markdown",
   "metadata": {
    "slideshow": {
     "slide_type": "slide"
    }
   },
   "source": [
    "# Extra advantages of the Jupyter notebook\n",
    "\n",
    "##### Great community!\n",
    "<a href=\"https://blog.jupyter.org/openness-diversity-and-dignity-a-foundation-for-global-collaboration-f7c71fba523\">Statement of inclusion</a>"
   ]
  },
  {
   "cell_type": "markdown",
   "metadata": {
    "slideshow": {
     "slide_type": "fragment"
    }
   },
   "source": [
    "##### Easy to engage in the conversation\n",
    "<a href=\"https://github.com/jupyter/notebook\">Github repo</a>"
   ]
  },
  {
   "cell_type": "markdown",
   "metadata": {
    "slideshow": {
     "slide_type": "fragment"
    }
   },
   "source": [
    "##### Academically driven\n",
    "<a href=\"http://jupyter.org/about.html\">Steering committee</a>"
   ]
  },
  {
   "cell_type": "markdown",
   "metadata": {
    "slideshow": {
     "slide_type": "slide"
    }
   },
   "source": [
    "# Many \"kernels\""
   ]
  },
  {
   "cell_type": "markdown",
   "metadata": {
    "slideshow": {
     "slide_type": "fragment"
    }
   },
   "source": [
    "##### Jupyter is a single interface for many languages.\n",
    "<a href=\"https://github.com/jupyter/jupyter/wiki/Jupyter-kernels\">see the list here</a>"
   ]
  },
  {
   "cell_type": "markdown",
   "metadata": {
    "slideshow": {
     "slide_type": "slide"
    }
   },
   "source": [
    "# Browser based, javascript frontend"
   ]
  },
  {
   "cell_type": "markdown",
   "metadata": {
    "slideshow": {
     "slide_type": "fragment"
    }
   },
   "source": [
    "##### Interactive JS visualization \n",
    "<a href=\"https://plot.ly/python/ipython-notebook-tutorial/\">Plotly</a>"
   ]
  },
  {
   "cell_type": "code",
   "execution_count": 22,
   "metadata": {
    "slideshow": {
     "slide_type": "fragment"
    }
   },
   "outputs": [
    {
     "data": {
      "text/html": [
       "\n",
       "        <iframe\n",
       "            width=\"900\"\n",
       "            height=\"600\"\n",
       "            src=\"https://plot.ly/d3-js-for-python-and-pandas-charts/\"\n",
       "            frameborder=\"0\"\n",
       "            allowfullscreen\n",
       "        ></iframe>\n",
       "        "
      ],
      "text/plain": [
       "<IPython.lib.display.IFrame at 0x105dbe6a0>"
      ]
     },
     "execution_count": 22,
     "metadata": {},
     "output_type": "execute_result"
    }
   ],
   "source": [
    "show(url=\"https://plot.ly/d3-js-for-python-and-pandas-charts/\")"
   ]
  },
  {
   "cell_type": "markdown",
   "metadata": {
    "slideshow": {
     "slide_type": "slide"
    }
   },
   "source": [
    "##### Embed notebooks in blogs/websites\n",
    "\n",
    "<a href=\"https://jakevdp.github.io/blog/2013/12/01/kernel-density-estimation/\">See this example</a>"
   ]
  },
  {
   "cell_type": "code",
   "execution_count": 23,
   "metadata": {
    "slideshow": {
     "slide_type": "fragment"
    }
   },
   "outputs": [
    {
     "data": {
      "text/html": [
       "\n",
       "        <iframe\n",
       "            width=\"900\"\n",
       "            height=\"600\"\n",
       "            src=\"https://jakevdp.github.io/blog/2013/12/01/kernel-density-estimation/\"\n",
       "            frameborder=\"0\"\n",
       "            allowfullscreen\n",
       "        ></iframe>\n",
       "        "
      ],
      "text/plain": [
       "<IPython.lib.display.IFrame at 0x105dbe4e0>"
      ]
     },
     "execution_count": 23,
     "metadata": {},
     "output_type": "execute_result"
    }
   ],
   "source": [
    "show(url=\"https://jakevdp.github.io/blog/2013/12/01/kernel-density-estimation/\")"
   ]
  },
  {
   "cell_type": "markdown",
   "metadata": {
    "collapsed": true,
    "slideshow": {
     "slide_type": "slide"
    }
   },
   "source": [
    "##### Cloud hosted notebooks\n",
    "<a href=\"https://notebooks.azure.com/\">Microsoft Azure</a>"
   ]
  },
  {
   "cell_type": "markdown",
   "metadata": {
    "slideshow": {
     "slide_type": "slide"
    }
   },
   "source": [
    "##### Google Drive compatibility\n",
    "\n",
    "<a href=\"https://github.com/jupyter/jupyter-drive\">Github project here</a>"
   ]
  },
  {
   "cell_type": "markdown",
   "metadata": {
    "slideshow": {
     "slide_type": "slide"
    }
   },
   "source": [
    "# Supported by powerhouses\n",
    "<a href=\"http://jupyter.org/about\">List of Users and Sponsors</a>"
   ]
  },
  {
   "cell_type": "markdown",
   "metadata": {
    "slideshow": {
     "slide_type": "slide"
    }
   },
   "source": [
    "# Future of Jupyter"
   ]
  },
  {
   "cell_type": "markdown",
   "metadata": {
    "slideshow": {
     "slide_type": "fragment"
    }
   },
   "source": [
    "##### Real time collaboration\n",
    "\n",
    "##### Cloud servers\n",
    "\n",
    "##### Secure data banks across networks"
   ]
  },
  {
   "cell_type": "markdown",
   "metadata": {
    "slideshow": {
     "slide_type": "slide"
    }
   },
   "source": [
    "# How to practice open and reproducible science:\n",
    "\n",
    "1. Data exploration is cool. Do it. \n",
    "1. Commit/version control any steps *forward*.\n",
    "1. Compile raw data, code, documentation, and figures in a public repository.\n",
    "1. Comment and document like crazy.\n",
    "1. Publish the repository in an open, sustainable archive.\n",
    "1. Track changes over time.\n",
    "1. Engage the community. Challenge others to find the flaw in your work. \n",
    "1. Admit mistakes and track fixes."
   ]
  },
  {
   "cell_type": "markdown",
   "metadata": {
    "slideshow": {
     "slide_type": "slide"
    }
   },
   "source": [
    "# Thanks!\n",
    "\n",
    "## Zach Sailer\n",
    "\n",
    "Harms Lab\n",
    "\n",
    "Core developer at IPython/Jupyter\n",
    "\n",
    "<img src=\"img/twitter-logo.png\" width=100 style=\"float:left; padding-right:5px;\">\n",
    "<div height=100 width=0 style=\"float:left; padding-right:50px;\"> <h4>zrsailer</h4> </div>\n",
    "\n",
    "<img src=\"img/github-logo.png\" width=80 style=\"float:left; padding-left:10px; padding-right:10px; padding-top:10px;\">\n",
    "<div height=100 width=0 style=\"float:left; padding-right:50px;\"> <h4>zsailer</h4> </div>\n",
    "\n",
    "\n",
    "<img src=\"img/gmail-logo.png\" width=100 style=\"float:left; padding-left:10px; padding-right:10px; padding-top:10px;\">\n",
    "<div height=100 width=0 style=\"float:left; padding-right:50px;\"> <h4>zachsailer@gmail.com</h4> </div>"
   ]
  }
 ],
 "metadata": {
  "celltoolbar": "Slideshow",
  "kernelspec": {
   "display_name": "omnipotent (Python 3.6)",
   "language": "python",
   "name": "omnipotent"
  },
  "language_info": {
   "codemirror_mode": {
    "name": "ipython",
    "version": 3
   },
   "file_extension": ".py",
   "mimetype": "text/x-python",
   "name": "python",
   "nbconvert_exporter": "python",
   "pygments_lexer": "ipython3",
   "version": "3.6.5"
  }
 },
 "nbformat": 4,
 "nbformat_minor": 2
}
